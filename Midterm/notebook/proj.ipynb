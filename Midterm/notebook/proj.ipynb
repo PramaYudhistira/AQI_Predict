{
 "cells": [
  {
   "cell_type": "code",
   "execution_count": null,
   "metadata": {},
   "outputs": [],
   "source": [
    "import pandas as pd\n",
    "import numpy as np\n",
    "import matplotlib.pyplot as plt\n",
    "import seaborn as sns\n",
    "import sklearn\n",
    "# import xgboost\n",
    "import tensorflow as tf\n"
   ]
  },
  {
   "cell_type": "code",
   "execution_count": null,
   "metadata": {},
   "outputs": [],
   "source": [
    "#Getting data from kaggle\n",
    "\n",
    "import os \n",
    "\n",
    "print(os.getcwd())\n",
    "\n",
    "if not os.path.exists(\"../secrets\"):\n",
    "    os.makedirs(\"../secrets\")\n",
    "    print(\"Created directory: ../secrets\")\n",
    "    raise Exception(\"Place kaggle.json in the secrets directory\")\n",
    "elif not os.path.exists(\"../secrets/kaggle.json\"):\n",
    "    raise Exception(\"Place kaggle.json in the secrets directory\")\n",
    "\n",
    "\n",
    "#adding gitignore to secrets directory\n",
    "gitignore_path = os.path.join(\"../secrets\", \".gitignore\")\n",
    "\n",
    "if not os.path.exists(gitignore_path):\n",
    "    with open(gitignore_path, 'w') as f:\n",
    "        f.write(\"*\\n\")\n",
    "\n",
    "\n",
    "# Set environment variable for Kaggle config directory\n",
    "if not os.environ.get('KAGGLE_CONFIG_DIR'):\n",
    "    os.environ['KAGGLE_CONFIG_DIR'] = os.path.abspath(\"../secrets\")\n",
    "\n",
    "print(\"KAGGLE_CONFIG_DIR set to:\", os.environ['KAGGLE_CONFIG_DIR'])\n",
    "\n",
    "from kaggle.api.kaggle_api_extended import KaggleApi\n",
    "import kaggle\n",
    "\n",
    "# Download the dataset from Kaggle\n",
    "api = KaggleApi()\n",
    "api.authenticate()\n",
    "\n",
    "dataset_name = \"sid321axn/beijing-multisite-airquality-data-set\"\n",
    "\n",
    "download_dir = \"../data\"\n",
    "\n",
    "if not os.path.exists(download_dir):\n",
    "    os.makedirs(download_dir)\n",
    "    print(f\"Created directory: {download_dir}\")\n",
    "\n",
    "print(f\"Downloading dataset {dataset_name} to {download_dir}\")\n",
    "api.dataset_download_files(dataset_name, path=download_dir, unzip=True)\n",
    "print(f\"Dataset downloaded and unzipped to {download_dir}\")\n",
    "if not os.path.exists(os.path.join(download_dir, \".gitignore\")):\n",
    "    with open(os.path.join(download_dir, \".gitignore\"), 'w') as f:\n",
    "        f.write(\"*\\n\")\n",
    "    print(f\"Created .gitignore in {download_dir}\")\n",
    "\n"
   ]
  },
  {
   "cell_type": "code",
   "execution_count": null,
   "metadata": {},
   "outputs": [],
   "source": [
    "data = pd.read_csv('../data/PRSA_Data_Aotizhongxin_20130301-20170228.csv')"
   ]
  },
  {
   "cell_type": "code",
   "execution_count": null,
   "metadata": {},
   "outputs": [],
   "source": [
    "print(\"Shape:\", data.shape)\n",
    "data.head()"
   ]
  },
  {
   "cell_type": "code",
   "execution_count": null,
   "metadata": {},
   "outputs": [],
   "source": [
    "data.info()"
   ]
  },
  {
   "cell_type": "code",
   "execution_count": null,
   "metadata": {},
   "outputs": [],
   "source": [
    "missing = data.isnull().sum()\n",
    "print(missing[missing > 0])"
   ]
  },
  {
   "cell_type": "code",
   "execution_count": null,
   "metadata": {},
   "outputs": [],
   "source": [
    "plt.figure(figsize=(10,5))\n",
    "sns.heatmap(data.isnull(), cbar=False, cmap='viridis')\n",
    "plt.title('Visualization of Missing Values')\n",
    "plt.show()"
   ]
  },
  {
   "cell_type": "code",
   "execution_count": null,
   "metadata": {},
   "outputs": [],
   "source": [
    "missing_percent = (data.isnull().sum() / len(data)) * 100\n",
    "print(missing_percent[missing_percent > 0].sort_values(ascending=False))"
   ]
  },
  {
   "cell_type": "code",
   "execution_count": null,
   "metadata": {},
   "outputs": [],
   "source": [
    "# Forward-fill missing values\n",
    "data_ffill = data.fillna(method='ffill')\n",
    "\n",
    "# Backward-fill remaining if necessary\n",
    "data_ffill_bfill = data_ffill.fillna(method='bfill')\n",
    "\n",
    "# Verify no missing values remain\n",
    "print(\"Remaining Missing:\", data_ffill_bfill.isnull().sum().sum())"
   ]
  },
  {
   "cell_type": "code",
   "execution_count": null,
   "metadata": {},
   "outputs": [],
   "source": [
    "plt.figure(figsize=(10,5))\n",
    "sns.heatmap(data_ffill_bfill.isnull(), cbar=False, cmap='viridis')\n",
    "plt.title('Visualization of Missing Values After Imputation')\n",
    "plt.show()"
   ]
  },
  {
   "cell_type": "code",
   "execution_count": null,
   "metadata": {},
   "outputs": [],
   "source": [
    "data_ffill_bfill.to_csv('../data/cleaned_AQI_data.csv', index=False)"
   ]
  },
  {
   "cell_type": "code",
   "execution_count": null,
   "metadata": {},
   "outputs": [],
   "source": [
    "# Combine date and time into single datetime column\n",
    "data_ffill_bfill['datetime'] = pd.to_datetime(data_ffill_bfill[['year', 'month', 'day', 'hour']])\n",
    "\n",
    "# Extracting time-related features\n",
    "data_ffill_bfill['day_of_week'] = data_ffill_bfill['datetime'].dt.dayofweek\n",
    "data_ffill_bfill['is_weekend'] = data_ffill_bfill['day_of_week'].isin([5,6]).astype(int)\n",
    "data_ffill_bfill['month'] = data_ffill_bfill['datetime'].dt.month\n",
    "data_ffill_bfill['hour'] = data_ffill_bfill['datetime'].dt.hour\n",
    "data_ffill_bfill['season'] = data_ffill_bfill['month']%12 // 3 + 1  # 1: Winter, 2: Spring, 3: Summer, 4: Autumn\n",
    "\n",
    "# View newly created features\n",
    "data_ffill_bfill.head()"
   ]
  },
  {
   "cell_type": "code",
   "execution_count": null,
   "metadata": {},
   "outputs": [],
   "source": [
    "data_features = data_ffill_bfill.drop(columns=['No', 'year', 'month', 'day', 'hour', 'station'])"
   ]
  },
  {
   "cell_type": "code",
   "execution_count": null,
   "metadata": {},
   "outputs": [],
   "source": [
    "data_features.to_csv('../data/feature_engineered_AQI_data.csv', index=False)"
   ]
  },
  {
   "cell_type": "code",
   "execution_count": null,
   "metadata": {},
   "outputs": [],
   "source": [
    "data_features.head()\n"
   ]
  },
  {
   "cell_type": "code",
   "execution_count": null,
   "metadata": {},
   "outputs": [],
   "source": [
    "X = data_features.drop(columns=['datetime', 'PM2.5'])\n",
    "y = data_features['PM2.5']\n",
    "\n",
    "# Checking the shape clearly\n",
    "print(\"Features shape:\", X.shape)\n",
    "print(\"Target shape:\", y.shape)"
   ]
  },
  {
   "cell_type": "code",
   "execution_count": null,
   "metadata": {},
   "outputs": [],
   "source": [
    "from sklearn.model_selection import train_test_split\n",
    "\n",
    "# 80-20 split (Time-series data should NOT be shuffled)\n",
    "X_train, X_test, y_train, y_test = train_test_split(\n",
    "    X, y, test_size=0.2, shuffle=False\n",
    ")\n",
    "\n",
    "print(f\"Training size: {X_train.shape[0]}, Testing size: {X_test.shape[0]}\")"
   ]
  },
  {
   "cell_type": "code",
   "execution_count": null,
   "metadata": {},
   "outputs": [],
   "source": [
    "X_encoded = pd.get_dummies(X, columns=['wd'], drop_first=True)\n",
    "X_train, X_test, y_train, y_test = train_test_split(\n",
    "    X_encoded, y, test_size=0.2, shuffle=False\n",
    ")\n"
   ]
  },
  {
   "cell_type": "code",
   "execution_count": null,
   "metadata": {},
   "outputs": [],
   "source": [
    "X_train_scaled = scaler.fit_transform(X_train)\n",
    "X_test_scaled = scaler.transform(X_test)\n",
    "\n",
    "# Verify scaling\n",
    "print(\"Scaled training data sample:\\n\", X_train_scaled[:5])"
   ]
  },
  {
   "cell_type": "code",
   "execution_count": null,
   "metadata": {},
   "outputs": [],
   "source": [
    "scaler = MinMaxScaler()\n",
    "\n",
    "X_train_scaled = scaler.fit_transform(X_train)\n",
    "X_test_scaled = scaler.transform(X_test)"
   ]
  },
  {
   "cell_type": "code",
   "execution_count": null,
   "metadata": {},
   "outputs": [],
   "source": [
    "print(X_train_scaled.shape)\n",
    "print(X_test_scaled.shape)"
   ]
  },
  {
   "cell_type": "code",
   "execution_count": null,
   "metadata": {},
   "outputs": [],
   "source": [
    "from sklearn.preprocessing import MinMaxScaler\n",
    "\n",
    "scaler = MinMaxScaler()\n",
    "\n",
    "# Fit on training data ONLY, then transform both train & test\n",
    "X_train_scaled = scaler.fit_transform(X_train)\n",
    "X_test_scaled = scaler.transform(X_test)\n",
    "\n",
    "# Verify scaling\n",
    "print(\"Scaled training data sample:\\n\", X_train_scaled[:5])"
   ]
  },
  {
   "cell_type": "code",
   "execution_count": null,
   "metadata": {},
   "outputs": [],
   "source": [
    "np.save('../data/X_train_scaled.npy', X_train_scaled)\n",
    "np.save('../data/X_test_scaled.npy', X_test_scaled)\n",
    "np.save('../data/y_train.npy', y_train)\n",
    "np.save('../data/y_test.npy', y_test)\n"
   ]
  },
  {
   "cell_type": "code",
   "execution_count": null,
   "metadata": {},
   "outputs": [],
   "source": [
    "from sklearn.ensemble import RandomForestRegressor\n",
    "from sklearn.metrics import mean_absolute_error, mean_squared_error, r2_score"
   ]
  },
  {
   "cell_type": "code",
   "execution_count": null,
   "metadata": {},
   "outputs": [],
   "source": [
    "rf_model = RandomForestRegressor(\n",
    "    n_estimators=100,      # Number of trees\n",
    "    max_depth=None,        # Let trees expand fully\n",
    "    random_state=42,       # For reproducibility\n",
    "    n_jobs=-1              # Use all cores\n",
    ")"
   ]
  },
  {
   "cell_type": "code",
   "execution_count": null,
   "metadata": {},
   "outputs": [],
   "source": [
    "rf_model.fit(X_train_scaled, y_train)"
   ]
  },
  {
   "cell_type": "code",
   "execution_count": null,
   "metadata": {},
   "outputs": [],
   "source": [
    "y_pred = rf_model.predict(X_test_scaled)"
   ]
  },
  {
   "cell_type": "code",
   "execution_count": null,
   "metadata": {},
   "outputs": [],
   "source": [
    "from sklearn.metrics import mean_absolute_error, mean_squared_error, r2_score\n",
    "import numpy as np\n",
    "\n",
    "mae = mean_absolute_error(y_test, y_pred)\n",
    "mse = mean_squared_error(y_test, y_pred)\n",
    "rmse = np.sqrt(mse)\n",
    "r2 = r2_score(y_test, y_pred)\n",
    "\n",
    "print(f\"MAE: {mae:.2f}\")\n",
    "print(f\"RMSE: {rmse:.2f}\")\n",
    "print(f\"R² Score: {r2:.3f}\")"
   ]
  },
  {
   "cell_type": "code",
   "execution_count": null,
   "metadata": {},
   "outputs": [],
   "source": [
    "plt.figure(figsize=(12, 6))\n",
    "plt.plot(y_test.values[:200], label='Actual', alpha=0.7)\n",
    "plt.plot(y_pred[:200], label='Predicted', alpha=0.7)\n",
    "plt.title(\"Random Forest - Actual vs Predicted PM2.5\")\n",
    "plt.xlabel(\"Time (hours)\")\n",
    "plt.ylabel(\"PM2.5 Concentration\")\n",
    "plt.legend()\n",
    "plt.show()"
   ]
  },
  {
   "cell_type": "code",
   "execution_count": null,
   "metadata": {},
   "outputs": [],
   "source": [
    "importances = rf_model.feature_importances_\n",
    "feature_names = X_train.columns\n",
    "\n",
    "# Create a DataFrame\n",
    "feat_imp_df = pd.DataFrame({\n",
    "    'Feature': feature_names,\n",
    "    'Importance': importances\n",
    "}).sort_values(by='Importance', ascending=False)\n",
    "\n",
    "# Plot\n",
    "plt.figure(figsize=(10, 6))\n",
    "sns.barplot(x='Importance', y='Feature', data=feat_imp_df)\n",
    "plt.title(\"Random Forest Feature Importances\")\n",
    "plt.show()"
   ]
  },
  {
   "cell_type": "code",
   "execution_count": null,
   "metadata": {},
   "outputs": [],
   "source": [
    "from sklearn.model_selection import GridSearchCV"
   ]
  },
  {
   "cell_type": "code",
   "execution_count": null,
   "metadata": {},
   "outputs": [],
   "source": [
    "param_grid = {\n",
    "    'n_estimators': [100, 200],\n",
    "    'max_depth': [10, 20, None],\n",
    "    'min_samples_split': [2, 5],\n",
    "    'min_samples_leaf': [1, 2],\n",
    "    'max_features': ['sqrt', 'log2']\n",
    "}\n"
   ]
  },
  {
   "cell_type": "code",
   "execution_count": null,
   "metadata": {},
   "outputs": [],
   "source": [
    "rf = RandomForestRegressor(random_state=42, n_jobs=-1)\n",
    "\n",
    "grid_search = GridSearchCV(\n",
    "    estimator=rf,\n",
    "    param_grid=param_grid,\n",
    "    scoring='neg_root_mean_squared_error',  # RMSE (negative for minimization)\n",
    "    cv=3,  # 3-fold cross-validation\n",
    "    verbose=2,\n",
    "    n_jobs=-1\n",
    ")"
   ]
  },
  {
   "cell_type": "code",
   "execution_count": null,
   "metadata": {},
   "outputs": [],
   "source": [
    "grid_search.fit(X_train_scaled, y_train)"
   ]
  },
  {
   "cell_type": "code",
   "execution_count": null,
   "metadata": {},
   "outputs": [],
   "source": [
    "print(\"Best Parameters:\", grid_search.best_params_)\n",
    "print(\"Best RMSE (CV):\", -grid_search.best_score_)\n"
   ]
  },
  {
   "cell_type": "code",
   "execution_count": null,
   "metadata": {},
   "outputs": [],
   "source": [
    "best_rf = grid_search.best_estimator_\n",
    "\n",
    "y_pred_tuned = best_rf.predict(X_test_scaled)\n",
    "\n",
    "mae = mean_absolute_error(y_test, y_pred_tuned)\n",
    "rmse = np.sqrt(mean_squared_error(y_test, y_pred_tuned))\n",
    "r2 = r2_score(y_test, y_pred_tuned)\n",
    "\n",
    "print(f\"🔧 Tuned RF — MAE: {mae:.2f}, RMSE: {rmse:.2f}, R²: {r2:.3f}\")"
   ]
  },
  {
   "cell_type": "code",
   "execution_count": null,
   "metadata": {},
   "outputs": [],
   "source": [
    "importances = best_rf.feature_importances_\n",
    "feat_imp_df = pd.DataFrame({\n",
    "    'Feature': X_train.columns,\n",
    "    'Importance': importances\n",
    "}).sort_values(by='Importance', ascending=False)\n",
    "\n",
    "plt.figure(figsize=(10, 6))\n",
    "sns.barplot(x='Importance', y='Feature', data=feat_imp_df)\n",
    "plt.title(\"Tuned Random Forest Feature Importances\")\n",
    "plt.show()"
   ]
  },
  {
   "cell_type": "code",
   "execution_count": null,
   "metadata": {},
   "outputs": [],
   "source": []
  }
 ],
 "metadata": {
  "kernelspec": {
   "display_name": "venv",
   "language": "python",
   "name": "python3"
  },
  "language_info": {
   "codemirror_mode": {
    "name": "ipython",
    "version": 3
   },
   "file_extension": ".py",
   "mimetype": "text/x-python",
   "name": "python",
   "nbconvert_exporter": "python",
   "pygments_lexer": "ipython3",
   "version": "3.12.3"
  }
 },
 "nbformat": 4,
 "nbformat_minor": 2
}
